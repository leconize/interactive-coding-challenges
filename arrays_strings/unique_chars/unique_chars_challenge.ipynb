{
  "cells": [
    {
      "cell_type": "markdown",
      "source": [
        "This notebook was prepared by [Donne Martin](http://donnemartin.com). Source and license info is on [GitHub](https://github.com/donnemartin/interactive-coding-challenges)."
      ],
      "metadata": {}
    },
    {
      "cell_type": "markdown",
      "source": [
        "# Challenge Notebook"
      ],
      "metadata": {}
    },
    {
      "cell_type": "markdown",
      "source": [
        "## Problem: Implement an algorithm to determine if a string has all unique characters.\n",
        "\n",
        "* [Constraints](#Constraints)\n",
        "* [Test Cases](#Test-Cases)\n",
        "* [Algorithm](#Algorithm)\n",
        "* [Code](#Code)\n",
        "* [Unit Test](#Unit-Test)\n",
        "* [Solution Notebook](#Solution-Notebook)"
      ],
      "metadata": {}
    },
    {
      "cell_type": "markdown",
      "source": [
        "## Constraints\n",
        "\n",
        "* Can we assume the string is ASCII?\n",
        "    * Yes\n",
        "    * Note: Unicode strings could require special handling depending on your language\n",
        "* Can we assume this is case sensitive?\n",
        "    * Yes\n",
        "* Can we use additional data structures?\n",
        "    * Yes\n",
        "* Can we assume this fits in memory?\n",
        "    * Yes"
      ],
      "metadata": {}
    },
    {
      "cell_type": "markdown",
      "source": [
        "## Test Cases\n",
        "\n",
        "* None -> False\n",
        "* '' -> True\n",
        "* 'foo' -> False\n",
        "* 'bar' -> True"
      ],
      "metadata": {}
    },
    {
      "cell_type": "markdown",
      "source": [
        "## Algorithm\n",
        "\nRefer to the [Solution Notebook](http://nbviewer.ipython.org/github/donnemartin/interactive-coding-challenges/blob/master/arrays_strings/unique_chars/unique_chars_solution.ipynb).  If you are stuck and need a hint, the solution notebook's algorithm discussion might be a good place to start."
      ],
      "metadata": {}
    },
    {
      "cell_type": "markdown",
      "source": [
        "## Code"
      ],
      "metadata": {}
    },
    {
      "cell_type": "code",
      "source": [
        "class UniqueChars(object):\n",
        "\n",
        "    def has_unique_chars(self, string):\n",
        "        savelist = []\n",
        "        if string != None:\n",
        "            for character in string:\n",
        "                if character not in savelist:\n",
        "                    savelist.append(character)\n",
        "                else:\n",
        "                    return False\n",
        "            return True\n",
        "        else:\n",
        "            return False"
      ],
      "outputs": [],
      "execution_count": 6,
      "metadata": {
        "collapsed": false
      }
    },
    {
      "cell_type": "markdown",
      "source": [
        "## Unit Test"
      ],
      "metadata": {}
    },
    {
      "cell_type": "markdown",
      "source": [
        "**The following unit test is expected to fail until you solve the challenge.**"
      ],
      "metadata": {}
    },
    {
      "cell_type": "code",
      "source": [
        "# %load test_unique_chars.py\n",
        "from nose.tools import assert_equal\n",
        "\n\n",
        "class TestUniqueChars(object):\n",
        "\n",
        "    def test_unique_chars(self, func):\n",
        "        assert_equal(func(None), False)\n",
        "        assert_equal(func(''), True)\n",
        "        assert_equal(func('foo'), False)\n",
        "        assert_equal(func('bar'), True)\n",
        "        print('Success: test_unique_chars')\n",
        "\n\n",
        "def main():\n",
        "    test = TestUniqueChars()\n",
        "    unique_chars = UniqueChars()\n",
        "    test.test_unique_chars(unique_chars.has_unique_chars)\n",
        "    try:\n",
        "        unique_chars_set = UniqueCharsSet()\n",
        "        test.test_unique_chars(unique_chars_set.has_unique_chars)\n",
        "        unique_chars_in_place = UniqueCharsInPlace()\n",
        "        test.test_unique_chars(unique_chars_in_place.has_unique_chars)\n",
        "    except NameError:\n",
        "        # Alternate solutions are only defined\n",
        "        # in the solutions file\n",
        "        pass\n",
        "\n\n",
        "if __name__ == '__main__':\n",
        "    main()"
      ],
      "outputs": [
        {
          "output_type": "stream",
          "name": "stdout",
          "text": [
            "Success: test_unique_chars\n"
          ]
        }
      ],
      "execution_count": 7,
      "metadata": {
        "collapsed": false
      }
    },
    {
      "cell_type": "markdown",
      "source": [
        "## Solution Notebook\n",
        "\nReview the [Solution Notebook](http://nbviewer.ipython.org/github/donnemartin/interactive-coding-challenges/blob/master/arrays_strings/unique_chars/unique_chars_solution.ipynb) for a discussion on algorithms and code solutions."
      ],
      "metadata": {}
    }
  ],
  "metadata": {
    "kernelspec": {
      "name": "python3",
      "language": "python",
      "display_name": "Python 3"
    },
    "language_info": {
      "name": "python",
      "codemirror_mode": {
        "name": "ipython",
        "version": 3
      },
      "nbconvert_exporter": "python",
      "version": "3.5.3",
      "mimetype": "text/x-python",
      "file_extension": ".py",
      "pygments_lexer": "ipython3"
    },
    "kernel_info": {
      "name": "python3"
    }
  },
  "nbformat": 4,
  "nbformat_minor": 0
}